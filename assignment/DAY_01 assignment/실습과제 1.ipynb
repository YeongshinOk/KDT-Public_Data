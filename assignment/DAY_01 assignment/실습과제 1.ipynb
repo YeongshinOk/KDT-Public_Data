{
 "cells": [
  {
   "cell_type": "code",
   "execution_count": 20,
   "id": "initial_id",
   "metadata": {
    "collapsed": true,
    "ExecuteTime": {
     "end_time": "2024-01-24T08:34:08.537640700Z",
     "start_time": "2024-01-24T08:34:08.527195800Z"
    }
   },
   "outputs": [],
   "source": [
    "import pandas as pd\n",
    "import matplotlib.pyplot as plt\n",
    "import koreanize_matplotlib\n",
    "import csv\n",
    "import platform"
   ]
  },
  {
   "cell_type": "markdown",
   "source": [
    "## 과거 10년 동안의 대구 날씨 데이터에서 1년 중 일교차가 가장 큰 달은 각각 몇 월인지 그래프로 표시"
   ],
   "metadata": {
    "collapsed": false
   },
   "id": "de2b8743466d8d3d"
  },
  {
   "cell_type": "code",
   "outputs": [],
   "source": [
    "# 데이터 불러오기\n",
    "with open('dg_weather.csv', 'r', encoding='utf-8') as f:\n",
    "    reade"
   ],
   "metadata": {
    "collapsed": false,
    "ExecuteTime": {
     "end_time": "2024-01-24T09:12:11.161460Z",
     "start_time": "2024-01-24T09:12:11.127193100Z"
    }
   },
   "id": "665428224943e195",
   "execution_count": 23
  },
  {
   "cell_type": "code",
   "outputs": [],
   "source": [],
   "metadata": {
    "collapsed": false,
    "ExecuteTime": {
     "end_time": "2024-01-24T09:12:12.886642200Z",
     "start_time": "2024-01-24T09:12:12.866189400Z"
    }
   },
   "id": "6b2eaf773d46bf45",
   "execution_count": 23
  },
  {
   "cell_type": "markdown",
   "source": [],
   "metadata": {
    "collapsed": false
   },
   "id": "da029b0d4cba039e"
  },
  {
   "cell_type": "code",
   "outputs": [],
   "source": [],
   "metadata": {
    "collapsed": false,
    "ExecuteTime": {
     "end_time": "2024-01-24T09:12:25.800719100Z",
     "start_time": "2024-01-24T09:12:25.774781600Z"
    }
   },
   "id": "cde0e3391793957f",
   "execution_count": 23
  },
  {
   "cell_type": "markdown",
   "source": [],
   "metadata": {
    "collapsed": false
   },
   "id": "5c57000be1c2e085"
  },
  {
   "cell_type": "markdown",
   "source": [],
   "metadata": {
    "collapsed": false
   },
   "id": "baf3edba40268a4f"
  },
  {
   "cell_type": "code",
   "outputs": [],
   "source": [],
   "metadata": {
    "collapsed": false,
    "ExecuteTime": {
     "end_time": "2024-01-24T08:34:09.836215Z",
     "start_time": "2024-01-24T08:34:09.803478800Z"
    }
   },
   "id": "cb720e49bec16fa5",
   "execution_count": 23
  },
  {
   "cell_type": "markdown",
   "source": [],
   "metadata": {
    "collapsed": false
   },
   "id": "83b28b961ac18b0b"
  },
  {
   "cell_type": "code",
   "outputs": [],
   "source": [],
   "metadata": {
    "collapsed": false,
    "ExecuteTime": {
     "end_time": "2024-01-24T08:34:09.837271100Z",
     "start_time": "2024-01-24T08:34:09.817314900Z"
    }
   },
   "id": "12ecb21ebeefb601",
   "execution_count": 23
  },
  {
   "cell_type": "markdown",
   "source": [],
   "metadata": {
    "collapsed": false
   },
   "id": "ca72a1ec5cd1cb7e"
  },
  {
   "cell_type": "code",
   "outputs": [],
   "source": [],
   "metadata": {
    "collapsed": false,
    "ExecuteTime": {
     "end_time": "2024-01-24T08:34:09.851987400Z",
     "start_time": "2024-01-24T08:34:09.833012900Z"
    }
   },
   "id": "d0d5d32e5c5444ea",
   "execution_count": 23
  },
  {
   "cell_type": "markdown",
   "source": [],
   "metadata": {
    "collapsed": false
   },
   "id": "ce4e997be30bb317"
  },
  {
   "cell_type": "code",
   "outputs": [],
   "source": [],
   "metadata": {
    "collapsed": false,
    "ExecuteTime": {
     "end_time": "2024-01-24T08:34:09.864820500Z",
     "start_time": "2024-01-24T08:34:09.849936900Z"
    }
   },
   "id": "d330d53e5f2e1938",
   "execution_count": 23
  },
  {
   "cell_type": "markdown",
   "source": [],
   "metadata": {
    "collapsed": false
   },
   "id": "7d8ea8e017380dab"
  },
  {
   "cell_type": "code",
   "outputs": [],
   "source": [],
   "metadata": {
    "collapsed": false,
    "ExecuteTime": {
     "end_time": "2024-01-24T08:34:09.883685Z",
     "start_time": "2024-01-24T08:34:09.865820600Z"
    }
   },
   "id": "5354356d5af71e3a",
   "execution_count": 23
  },
  {
   "cell_type": "code",
   "outputs": [],
   "source": [],
   "metadata": {
    "collapsed": false,
    "ExecuteTime": {
     "end_time": "2024-01-24T08:34:09.900789400Z",
     "start_time": "2024-01-24T08:34:09.881607100Z"
    }
   },
   "id": "748b5d84cd9734af",
   "execution_count": 23
  }
 ],
 "metadata": {
  "kernelspec": {
   "display_name": "Python 3",
   "language": "python",
   "name": "python3"
  },
  "language_info": {
   "codemirror_mode": {
    "name": "ipython",
    "version": 2
   },
   "file_extension": ".py",
   "mimetype": "text/x-python",
   "name": "python",
   "nbconvert_exporter": "python",
   "pygments_lexer": "ipython2",
   "version": "2.7.6"
  }
 },
 "nbformat": 4,
 "nbformat_minor": 5
}
