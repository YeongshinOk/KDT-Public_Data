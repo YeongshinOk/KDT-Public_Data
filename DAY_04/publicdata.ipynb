{
 "cells": [
  {
   "cell_type": "code",
   "execution_count": 1,
   "id": "initial_id",
   "metadata": {
    "collapsed": true,
    "ExecuteTime": {
     "end_time": "2024-01-29T02:45:04.081924600Z",
     "start_time": "2024-01-29T02:45:03.356949300Z"
    }
   },
   "outputs": [
    {
     "name": "stdout",
     "output_type": "stream",
     "text": [
      "Index(['병원 명', '설립형태', '근거 법령', '관계 행정기관', '관계 공공단체', '심평원 요양기관번호', '종별구분',\n",
      "       '병상수', '소재지 우편번호', '주소', '홈페이지', '대표전화', 'FAX', '비고'],\n",
      "      dtype='object')\n"
     ]
    },
    {
     "data": {
      "text/plain": "         병원 명  설립형태                  근거 법령     관계 행정기관 관계 공공단체  심평원 요양기관번호  \\\n연번                                                                           \n1    강원도 재활병원   시도립      강원도재활병원설치및운영에관한조례         강원도    해당없음    32200641   \n2   강원도 삼척의료원  특수법인  지방의료원의 설립 및 운영에 관한 법률  보건복지부(강원도)   지방의료원    32100060   \n3   강원도 영월의료원  특수법인  지방의료원의 설립 및 운영에 관한 법률  보건복지부(강원도)   지방의료원    32100078   \n4   강원도 원주의료원  특수법인  지방의료원의 설립 및 운영에 관한 법률  보건복지부(강원도)   지방의료원    32100086   \n5   강원도 강릉의료원  특수법인  지방의료원의 설립 및 운영에 관한 법률  보건복지부(강원도)   지방의료원    32100159   \n\n    종별구분  병상수 소재지 우편번호                           주소                     홈페이지  \\\n연번                                                                             \n1     병원  165    24227      강원도 춘천시 충열로 142번길 24-16            www.grh.or.kr   \n2   종합병원  152    25920             강원도 삼척시 오십천로 418        http://ksmc.or.kr   \n3   종합병원  214    26234          강원도 영월군 영월읍 중앙1로 59  http://www.youngwol.org   \n4   종합병원  237    26448        강원도 원주시 서원대로 387(개운동)           www.kwmc.or.kr   \n5   종합병원  137    25535  강원도 강릉시 경강로 2007(남문동 164-1)    http://www.gnmc.or.kr   \n\n            대표전화           FAX   비고  \n연번                                   \n1   033-248-7700  033-248-7723  NaN  \n2   033-572-1141  033-573-8424  NaN  \n3   033-370-9117  033-370-9137  NaN  \n4   033-760-4500  033-761-5121  NaN  \n5   033-646-6910  033-610-1415  NaN  ",
      "text/html": "<div>\n<style scoped>\n    .dataframe tbody tr th:only-of-type {\n        vertical-align: middle;\n    }\n\n    .dataframe tbody tr th {\n        vertical-align: top;\n    }\n\n    .dataframe thead th {\n        text-align: right;\n    }\n</style>\n<table border=\"1\" class=\"dataframe\">\n  <thead>\n    <tr style=\"text-align: right;\">\n      <th></th>\n      <th>병원 명</th>\n      <th>설립형태</th>\n      <th>근거 법령</th>\n      <th>관계 행정기관</th>\n      <th>관계 공공단체</th>\n      <th>심평원 요양기관번호</th>\n      <th>종별구분</th>\n      <th>병상수</th>\n      <th>소재지 우편번호</th>\n      <th>주소</th>\n      <th>홈페이지</th>\n      <th>대표전화</th>\n      <th>FAX</th>\n      <th>비고</th>\n    </tr>\n    <tr>\n      <th>연번</th>\n      <th></th>\n      <th></th>\n      <th></th>\n      <th></th>\n      <th></th>\n      <th></th>\n      <th></th>\n      <th></th>\n      <th></th>\n      <th></th>\n      <th></th>\n      <th></th>\n      <th></th>\n      <th></th>\n    </tr>\n  </thead>\n  <tbody>\n    <tr>\n      <th>1</th>\n      <td>강원도 재활병원</td>\n      <td>시도립</td>\n      <td>강원도재활병원설치및운영에관한조례</td>\n      <td>강원도</td>\n      <td>해당없음</td>\n      <td>32200641</td>\n      <td>병원</td>\n      <td>165</td>\n      <td>24227</td>\n      <td>강원도 춘천시 충열로 142번길 24-16</td>\n      <td>www.grh.or.kr</td>\n      <td>033-248-7700</td>\n      <td>033-248-7723</td>\n      <td>NaN</td>\n    </tr>\n    <tr>\n      <th>2</th>\n      <td>강원도 삼척의료원</td>\n      <td>특수법인</td>\n      <td>지방의료원의 설립 및 운영에 관한 법률</td>\n      <td>보건복지부(강원도)</td>\n      <td>지방의료원</td>\n      <td>32100060</td>\n      <td>종합병원</td>\n      <td>152</td>\n      <td>25920</td>\n      <td>강원도 삼척시 오십천로 418</td>\n      <td>http://ksmc.or.kr</td>\n      <td>033-572-1141</td>\n      <td>033-573-8424</td>\n      <td>NaN</td>\n    </tr>\n    <tr>\n      <th>3</th>\n      <td>강원도 영월의료원</td>\n      <td>특수법인</td>\n      <td>지방의료원의 설립 및 운영에 관한 법률</td>\n      <td>보건복지부(강원도)</td>\n      <td>지방의료원</td>\n      <td>32100078</td>\n      <td>종합병원</td>\n      <td>214</td>\n      <td>26234</td>\n      <td>강원도 영월군 영월읍 중앙1로 59</td>\n      <td>http://www.youngwol.org</td>\n      <td>033-370-9117</td>\n      <td>033-370-9137</td>\n      <td>NaN</td>\n    </tr>\n    <tr>\n      <th>4</th>\n      <td>강원도 원주의료원</td>\n      <td>특수법인</td>\n      <td>지방의료원의 설립 및 운영에 관한 법률</td>\n      <td>보건복지부(강원도)</td>\n      <td>지방의료원</td>\n      <td>32100086</td>\n      <td>종합병원</td>\n      <td>237</td>\n      <td>26448</td>\n      <td>강원도 원주시 서원대로 387(개운동)</td>\n      <td>www.kwmc.or.kr</td>\n      <td>033-760-4500</td>\n      <td>033-761-5121</td>\n      <td>NaN</td>\n    </tr>\n    <tr>\n      <th>5</th>\n      <td>강원도 강릉의료원</td>\n      <td>특수법인</td>\n      <td>지방의료원의 설립 및 운영에 관한 법률</td>\n      <td>보건복지부(강원도)</td>\n      <td>지방의료원</td>\n      <td>32100159</td>\n      <td>종합병원</td>\n      <td>137</td>\n      <td>25535</td>\n      <td>강원도 강릉시 경강로 2007(남문동 164-1)</td>\n      <td>http://www.gnmc.or.kr</td>\n      <td>033-646-6910</td>\n      <td>033-610-1415</td>\n      <td>NaN</td>\n    </tr>\n  </tbody>\n</table>\n</div>"
     },
     "execution_count": 1,
     "metadata": {},
     "output_type": "execute_result"
    }
   ],
   "source": [
    "import pandas as pd\n",
    "import numpy as np\n",
    "\n",
    "data = pd.read_csv('공공보건의료기관현황.csv', index_col=0, encoding='utf-8-sig')\n",
    "print(data.columns)\n",
    "data.head()"
   ]
  },
  {
   "cell_type": "code",
   "outputs": [
    {
     "data": {
      "text/plain": "       시도   군구\n0     강원도  춘천시\n1     강원도  삼척시\n2     강원도  영월군\n3     강원도  원주시\n4     강원도  강릉시\n..    ...  ...\n222  충청북도  제천시\n223  충청북도  충주시\n224  충청북도  충주시\n225  충청북도  영동군\n226  충청북도  단양군\n\n[227 rows x 2 columns]",
      "text/html": "<div>\n<style scoped>\n    .dataframe tbody tr th:only-of-type {\n        vertical-align: middle;\n    }\n\n    .dataframe tbody tr th {\n        vertical-align: top;\n    }\n\n    .dataframe thead th {\n        text-align: right;\n    }\n</style>\n<table border=\"1\" class=\"dataframe\">\n  <thead>\n    <tr style=\"text-align: right;\">\n      <th></th>\n      <th>시도</th>\n      <th>군구</th>\n    </tr>\n  </thead>\n  <tbody>\n    <tr>\n      <th>0</th>\n      <td>강원도</td>\n      <td>춘천시</td>\n    </tr>\n    <tr>\n      <th>1</th>\n      <td>강원도</td>\n      <td>삼척시</td>\n    </tr>\n    <tr>\n      <th>2</th>\n      <td>강원도</td>\n      <td>영월군</td>\n    </tr>\n    <tr>\n      <th>3</th>\n      <td>강원도</td>\n      <td>원주시</td>\n    </tr>\n    <tr>\n      <th>4</th>\n      <td>강원도</td>\n      <td>강릉시</td>\n    </tr>\n    <tr>\n      <th>...</th>\n      <td>...</td>\n      <td>...</td>\n    </tr>\n    <tr>\n      <th>222</th>\n      <td>충청북도</td>\n      <td>제천시</td>\n    </tr>\n    <tr>\n      <th>223</th>\n      <td>충청북도</td>\n      <td>충주시</td>\n    </tr>\n    <tr>\n      <th>224</th>\n      <td>충청북도</td>\n      <td>충주시</td>\n    </tr>\n    <tr>\n      <th>225</th>\n      <td>충청북도</td>\n      <td>영동군</td>\n    </tr>\n    <tr>\n      <th>226</th>\n      <td>충청북도</td>\n      <td>단양군</td>\n    </tr>\n  </tbody>\n</table>\n<p>227 rows × 2 columns</p>\n</div>"
     },
     "execution_count": 55,
     "metadata": {},
     "output_type": "execute_result"
    }
   ],
   "source": [
    "addr = pd.DataFrame(data['주소'])\n",
    "addr = addr['주소'].apply(lambda v : v.split()[:2]) # 시도, 군구 분리(공백기준)\n",
    "#addr.to_list()\n",
    "addr = pd.DataFrame(addr.tolist(), columns = ('시도', '군구'))\n",
    "addr"
   ],
   "metadata": {
    "collapsed": false,
    "ExecuteTime": {
     "end_time": "2024-01-29T01:59:14.304644400Z",
     "start_time": "2024-01-29T01:59:14.281720700Z"
    }
   },
   "id": "41dedacc2fe25134",
   "execution_count": 55
  },
  {
   "cell_type": "code",
   "outputs": [
    {
     "data": {
      "text/plain": "시도    경상남도\n군구     창원시\nName: 31, dtype: object"
     },
     "execution_count": 43,
     "metadata": {},
     "output_type": "execute_result"
    }
   ],
   "source": [
    "addr[addr['시도'] == '창원시']\n",
    "\n",
    "addr.iloc[27] = ['경상남도', '창원시']\n",
    "addr.iloc[31] = ['경상남도', '창원시']\n",
    "\n",
    "addr.iloc[27]\n",
    "addr.iloc[31]"
   ],
   "metadata": {
    "collapsed": false,
    "ExecuteTime": {
     "end_time": "2024-01-29T00:54:31.488066300Z",
     "start_time": "2024-01-29T00:54:31.439714900Z"
    }
   },
   "id": "f418a2c9fe273316",
   "execution_count": 43
  },
  {
   "cell_type": "code",
   "outputs": [
    {
     "name": "stdout",
     "output_type": "stream",
     "text": [
      "['강원도' '경기도' '경기' '경남' '경상남도' '경상북도' '경북' '인천광역시' '대구광역시' '전라남도' '대전광역시'\n",
      " '광주광역시' '제주특별자치도' '부산광역시' '전라북도' '충북' '서울특별시' '서울시' '부산특별시' '대전시' '충남'\n",
      " '전남' '충청남도' '울산광역시' '전북' '충청북도']\n"
     ]
    }
   ],
   "source": [
    "addr[addr['시도'] == '경산시']\n",
    "\n",
    "addr.iloc[47] = ['경상북도', '경산시']\n",
    "addr.iloc[47]\n",
    "\n",
    "addr[addr['시도'] == '천안시']\n",
    "\n",
    "addr.iloc[209] = ['충청남도', '천안시']\n",
    "addr.iloc[210] = ['충청남도', '천안시']\n",
    "print(addr['시도'].unique())"
   ],
   "metadata": {
    "collapsed": false,
    "ExecuteTime": {
     "end_time": "2024-01-29T00:54:31.609322500Z",
     "start_time": "2024-01-29T00:54:31.583414800Z"
    }
   },
   "id": "c3b95fa7cdbe2ee6",
   "execution_count": 44
  },
  {
   "cell_type": "code",
   "outputs": [],
   "source": [
    "## 표준 행정구역 이름으로 수정 : 경기 -> 경기도, 경남 -> 경상남도, ...\n",
    "addr_aliases = {'경기':'경기도', '경남':'경상남도', '경북':'경상북도', '충북':'충청북도',\n",
    "'서울시':'서울특별시', '부산특별시':'부산광역시', '대전시':'대전광역시', '충남':'충청남도',\n",
    "'전남':'전라남도', '전북':'전라북도'}\n",
    "# dict.get(key[,default])\n",
    "# - key에 해당하는 값이 없으면 default값(key)을 리턴\n",
    "addr['시도']= addr['시도'].apply(lambda v: addr_aliases.get(v, v))"
   ],
   "metadata": {
    "collapsed": false,
    "ExecuteTime": {
     "end_time": "2024-01-29T00:54:31.724470700Z",
     "start_time": "2024-01-29T00:54:31.701536800Z"
    }
   },
   "id": "ea88f38140f0650e",
   "execution_count": 45
  },
  {
   "cell_type": "code",
   "outputs": [
    {
     "name": "stdout",
     "output_type": "stream",
     "text": [
      "['강원도' '경기도' '경상남도' '경상북도' '인천광역시' '대구광역시' '전라남도' '대전광역시' '광주광역시'\n",
      " '제주특별자치도' '부산광역시' '전라북도' '충청북도' '서울특별시' '충청남도' '울산광역시']\n"
     ]
    }
   ],
   "source": [
    "print(addr['시도'].unique())"
   ],
   "metadata": {
    "collapsed": false,
    "ExecuteTime": {
     "end_time": "2024-01-29T00:54:31.864202800Z",
     "start_time": "2024-01-29T00:54:31.852234500Z"
    }
   },
   "id": "eeb5c31cbabd1a06",
   "execution_count": 46
  },
  {
   "cell_type": "code",
   "outputs": [
    {
     "name": "stdout",
     "output_type": "stream",
     "text": [
      "['춘천시' '삼척시' '영월군' '원주시' '강릉시' '속초시' '정선군' '수원시' '이천시' '안성시' '의정부시' '포천시'\n",
      " '파주시' '용인시' '평택시' '시흥시' '여주시' '남양주시' '동두천시' '안산시' '부천시' '통영시' '사천시' '창원시'\n",
      " '김해시' '양산시' '거창군' '남해군' '의령군' '포항시' '김천시' '안동시' '울진군' '경주시' '구미시' '영주시'\n",
      " '상주시' '문경시' '경산시' '의성군' '청도군' '고령군' '칠곡군' '봉화군' '울릉군' '부평구' '북구' '순천시'\n",
      " '대덕구' '태백시' '동해시' '화성시' '광산구' '남구' '중구' '아란13길' '서구' '전주시' '진주시' '청주시'\n",
      " '종로구' '성남시' '동구' '화순군' '강동구' '사상구' '달서구' '해운대구' '유성구' '가평군' '양주시' '고양시'\n",
      " '홍천군' '양구군' '청원군' '계룡시' '논산시' '함평군' '양평군' '수성구' '달성군' '연수구' '노원구' '기장군'\n",
      " '공주시' '강북구' '광진구' '나주시' '창녕군' '목포시' '고흥군' '연제구' '동매로' '서초구' '은평구' '중랑구'\n",
      " '강남구' '동작구' '동대문구' '양천구' '성동구' '송파구' '울주군' '계양구' '옹진군' '보성군' '광양시' '영광군'\n",
      " '무안군' '진도군' '강진군' '곡성군' '여수시' '신안군' '장성군' '완주군' '부안군' '정읍시' '남원시' '군산시'\n",
      " '고창군' '진안군' '제주시' '서귀포시' '천안시' '보령시' '서산시' '서천군' '홍성군' '제천시' '충주시' '영동군'\n",
      " '단양군']\n"
     ]
    }
   ],
   "source": [
    "print(addr['군구'].unique())"
   ],
   "metadata": {
    "collapsed": false,
    "ExecuteTime": {
     "end_time": "2024-01-29T00:54:32.030693300Z",
     "start_time": "2024-01-29T00:54:32.000591200Z"
    }
   },
   "id": "49c28d4679b52b98",
   "execution_count": 47
  },
  {
   "cell_type": "code",
   "outputs": [
    {
     "data": {
      "text/plain": "         시도     군구\n75  제주특별자치도  아란13길",
      "text/html": "<div>\n<style scoped>\n    .dataframe tbody tr th:only-of-type {\n        vertical-align: middle;\n    }\n\n    .dataframe tbody tr th {\n        vertical-align: top;\n    }\n\n    .dataframe thead th {\n        text-align: right;\n    }\n</style>\n<table border=\"1\" class=\"dataframe\">\n  <thead>\n    <tr style=\"text-align: right;\">\n      <th></th>\n      <th>시도</th>\n      <th>군구</th>\n    </tr>\n  </thead>\n  <tbody>\n    <tr>\n      <th>75</th>\n      <td>제주특별자치도</td>\n      <td>아란13길</td>\n    </tr>\n  </tbody>\n</table>\n</div>"
     },
     "execution_count": 48,
     "metadata": {},
     "output_type": "execute_result"
    }
   ],
   "source": [
    "addr[addr['군구'] == '아란13길']"
   ],
   "metadata": {
    "collapsed": false,
    "ExecuteTime": {
     "end_time": "2024-01-29T00:54:32.177593900Z",
     "start_time": "2024-01-29T00:54:32.144339600Z"
    }
   },
   "id": "7660a8ce8b7d12d7",
   "execution_count": 48
  },
  {
   "cell_type": "code",
   "outputs": [
    {
     "data": {
      "text/plain": "시도    제주특별자치도\n군구        제주시\nName: 75, dtype: object"
     },
     "execution_count": 49,
     "metadata": {},
     "output_type": "execute_result"
    }
   ],
   "source": [
    "addr.iloc[75] = ['제주특별자치도', '제주시']\n",
    "addr.iloc[75]"
   ],
   "metadata": {
    "collapsed": false,
    "ExecuteTime": {
     "end_time": "2024-01-29T00:54:32.388503100Z",
     "start_time": "2024-01-29T00:54:32.351628400Z"
    }
   },
   "id": "eb86e5313bccff2a",
   "execution_count": 49
  },
  {
   "cell_type": "code",
   "outputs": [
    {
     "name": "stdout",
     "output_type": "stream",
     "text": [
      "['춘천시' '삼척시' '영월군' '원주시' '강릉시' '속초시' '정선군' '수원시' '이천시' '안성시' '의정부시' '포천시'\n",
      " '파주시' '용인시' '평택시' '시흥시' '여주시' '남양주시' '동두천시' '안산시' '부천시' '통영시' '사천시' '창원시'\n",
      " '김해시' '양산시' '거창군' '남해군' '의령군' '포항시' '김천시' '안동시' '울진군' '경주시' '구미시' '영주시'\n",
      " '상주시' '문경시' '경산시' '의성군' '청도군' '고령군' '칠곡군' '봉화군' '울릉군' '부평구' '북구' '순천시'\n",
      " '대덕구' '태백시' '동해시' '화성시' '광산구' '남구' '중구' '제주시' '서구' '전주시' '진주시' '청주시'\n",
      " '종로구' '성남시' '동구' '화순군' '강동구' '사상구' '달서구' '해운대구' '유성구' '가평군' '양주시' '고양시'\n",
      " '홍천군' '양구군' '청원군' '계룡시' '논산시' '함평군' '양평군' '수성구' '달성군' '연수구' '노원구' '기장군'\n",
      " '공주시' '강북구' '광진구' '나주시' '창녕군' '목포시' '고흥군' '연제구' '동매로' '서초구' '은평구' '중랑구'\n",
      " '강남구' '동작구' '동대문구' '양천구' '성동구' '송파구' '울주군' '계양구' '옹진군' '보성군' '광양시' '영광군'\n",
      " '무안군' '진도군' '강진군' '곡성군' '여수시' '신안군' '장성군' '완주군' '부안군' '정읍시' '남원시' '군산시'\n",
      " '고창군' '진안군' '서귀포시' '천안시' '보령시' '서산시' '서천군' '홍성군' '제천시' '충주시' '영동군' '단양군']\n"
     ]
    }
   ],
   "source": [
    "print(addr['군구'].unique())"
   ],
   "metadata": {
    "collapsed": false,
    "ExecuteTime": {
     "end_time": "2024-01-29T00:54:32.505625Z",
     "start_time": "2024-01-29T00:54:32.475725500Z"
    }
   },
   "id": "967cb3188882251c",
   "execution_count": 50
  },
  {
   "cell_type": "code",
   "outputs": [
    {
     "data": {
      "text/plain": "시도     군구    시도군구     \n대전광역시  유성구   대전광역시 유성구    6\n경기도    남양주시  경기도 남양주시     5\n강원도    춘천시   강원도 춘천시      5\n       강릉시   강원도 강릉시      4\n경상남도   창원시   경상남도 창원시     4\n                         ..\n대전광역시  중구    대전광역시 중구     1\n경기도    양주시   경기도 양주시      1\n대전광역시  동구    대전광역시 동구     1\n경기도    양평군   경기도 양평군      1\n부산광역시  기장군   부산광역시 기장군    1\nName: count, Length: 159, dtype: int64"
     },
     "execution_count": 60,
     "metadata": {},
     "output_type": "execute_result"
    }
   ],
   "source": [
    "addr['시도군구'] = addr.apply(lambda r: r['시도'] + ' ' + r['군구'], axis=1)\n",
    "addr.value_counts()"
   ],
   "metadata": {
    "collapsed": false,
    "ExecuteTime": {
     "end_time": "2024-01-29T02:08:14.262451100Z",
     "start_time": "2024-01-29T02:08:14.226573300Z"
    }
   },
   "id": "ccad964f7b2adc22",
   "execution_count": 60
  },
  {
   "cell_type": "code",
   "outputs": [
    {
     "data": {
      "text/plain": "    시도   군구     시도군구  의료기관수\n0  강원도  춘천시  강원도 춘천시      0\n1  강원도  삼척시  강원도 삼척시      0\n2  강원도  영월군  강원도 영월군      0\n3  강원도  원주시  강원도 원주시      0\n4  강원도  강릉시  강원도 강릉시      0",
      "text/html": "<div>\n<style scoped>\n    .dataframe tbody tr th:only-of-type {\n        vertical-align: middle;\n    }\n\n    .dataframe tbody tr th {\n        vertical-align: top;\n    }\n\n    .dataframe thead th {\n        text-align: right;\n    }\n</style>\n<table border=\"1\" class=\"dataframe\">\n  <thead>\n    <tr style=\"text-align: right;\">\n      <th></th>\n      <th>시도</th>\n      <th>군구</th>\n      <th>시도군구</th>\n      <th>의료기관수</th>\n    </tr>\n  </thead>\n  <tbody>\n    <tr>\n      <th>0</th>\n      <td>강원도</td>\n      <td>춘천시</td>\n      <td>강원도 춘천시</td>\n      <td>0</td>\n    </tr>\n    <tr>\n      <th>1</th>\n      <td>강원도</td>\n      <td>삼척시</td>\n      <td>강원도 삼척시</td>\n      <td>0</td>\n    </tr>\n    <tr>\n      <th>2</th>\n      <td>강원도</td>\n      <td>영월군</td>\n      <td>강원도 영월군</td>\n      <td>0</td>\n    </tr>\n    <tr>\n      <th>3</th>\n      <td>강원도</td>\n      <td>원주시</td>\n      <td>강원도 원주시</td>\n      <td>0</td>\n    </tr>\n    <tr>\n      <th>4</th>\n      <td>강원도</td>\n      <td>강릉시</td>\n      <td>강원도 강릉시</td>\n      <td>0</td>\n    </tr>\n  </tbody>\n</table>\n</div>"
     },
     "execution_count": 62,
     "metadata": {},
     "output_type": "execute_result"
    }
   ],
   "source": [
    "addr['의료기관수'] = 0\n",
    "addr.head()"
   ],
   "metadata": {
    "collapsed": false,
    "ExecuteTime": {
     "end_time": "2024-01-29T02:09:06.386561400Z",
     "start_time": "2024-01-29T02:09:06.358941300Z"
    }
   },
   "id": "62aa7a4cb2613d8b",
   "execution_count": 62
  },
  {
   "cell_type": "code",
   "outputs": [
    {
     "data": {
      "text/plain": "       시도   군구      시도군구  의료기관수\n0     강원도  강릉시   강원도 강릉시      4\n1     강원도  동해시   강원도 동해시      1\n2     강원도  삼척시   강원도 삼척시      1\n3     강원도  속초시   강원도 속초시      1\n4     강원도  양구군   강원도 양구군      1\n..    ...  ...       ...    ...\n154  충청북도  단양군  충청북도 단양군      1\n155  충청북도  영동군  충청북도 영동군      1\n156  충청북도  제천시  충청북도 제천시      1\n157  충청북도  청주시  충청북도 청주시      3\n158  충청북도  충주시  충청북도 충주시      2\n\n[159 rows x 4 columns]",
      "text/html": "<div>\n<style scoped>\n    .dataframe tbody tr th:only-of-type {\n        vertical-align: middle;\n    }\n\n    .dataframe tbody tr th {\n        vertical-align: top;\n    }\n\n    .dataframe thead th {\n        text-align: right;\n    }\n</style>\n<table border=\"1\" class=\"dataframe\">\n  <thead>\n    <tr style=\"text-align: right;\">\n      <th></th>\n      <th>시도</th>\n      <th>군구</th>\n      <th>시도군구</th>\n      <th>의료기관수</th>\n    </tr>\n  </thead>\n  <tbody>\n    <tr>\n      <th>0</th>\n      <td>강원도</td>\n      <td>강릉시</td>\n      <td>강원도 강릉시</td>\n      <td>4</td>\n    </tr>\n    <tr>\n      <th>1</th>\n      <td>강원도</td>\n      <td>동해시</td>\n      <td>강원도 동해시</td>\n      <td>1</td>\n    </tr>\n    <tr>\n      <th>2</th>\n      <td>강원도</td>\n      <td>삼척시</td>\n      <td>강원도 삼척시</td>\n      <td>1</td>\n    </tr>\n    <tr>\n      <th>3</th>\n      <td>강원도</td>\n      <td>속초시</td>\n      <td>강원도 속초시</td>\n      <td>1</td>\n    </tr>\n    <tr>\n      <th>4</th>\n      <td>강원도</td>\n      <td>양구군</td>\n      <td>강원도 양구군</td>\n      <td>1</td>\n    </tr>\n    <tr>\n      <th>...</th>\n      <td>...</td>\n      <td>...</td>\n      <td>...</td>\n      <td>...</td>\n    </tr>\n    <tr>\n      <th>154</th>\n      <td>충청북도</td>\n      <td>단양군</td>\n      <td>충청북도 단양군</td>\n      <td>1</td>\n    </tr>\n    <tr>\n      <th>155</th>\n      <td>충청북도</td>\n      <td>영동군</td>\n      <td>충청북도 영동군</td>\n      <td>1</td>\n    </tr>\n    <tr>\n      <th>156</th>\n      <td>충청북도</td>\n      <td>제천시</td>\n      <td>충청북도 제천시</td>\n      <td>1</td>\n    </tr>\n    <tr>\n      <th>157</th>\n      <td>충청북도</td>\n      <td>청주시</td>\n      <td>충청북도 청주시</td>\n      <td>3</td>\n    </tr>\n    <tr>\n      <th>158</th>\n      <td>충청북도</td>\n      <td>충주시</td>\n      <td>충청북도 충주시</td>\n      <td>2</td>\n    </tr>\n  </tbody>\n</table>\n<p>159 rows × 4 columns</p>\n</div>"
     },
     "execution_count": 63,
     "metadata": {},
     "output_type": "execute_result"
    }
   ],
   "source": [
    "addr_group = pd.DataFrame(addr.groupby(['시도', '군구', '시도군구'], as_index=False).count())\n",
    "addr_group"
   ],
   "metadata": {
    "collapsed": false,
    "ExecuteTime": {
     "end_time": "2024-01-29T02:09:07.081842300Z",
     "start_time": "2024-01-29T02:09:07.060897100Z"
    }
   },
   "id": "beceeac25117d612",
   "execution_count": 63
  },
  {
   "cell_type": "code",
   "outputs": [
    {
     "data": {
      "text/plain": "          시도   군구  의료기관수\n시도군구                    \n강원도 강릉시  강원도  강릉시      4\n강원도 동해시  강원도  동해시      1\n강원도 삼척시  강원도  삼척시      1\n강원도 속초시  강원도  속초시      1\n강원도 양구군  강원도  양구군      1",
      "text/html": "<div>\n<style scoped>\n    .dataframe tbody tr th:only-of-type {\n        vertical-align: middle;\n    }\n\n    .dataframe tbody tr th {\n        vertical-align: top;\n    }\n\n    .dataframe thead th {\n        text-align: right;\n    }\n</style>\n<table border=\"1\" class=\"dataframe\">\n  <thead>\n    <tr style=\"text-align: right;\">\n      <th></th>\n      <th>시도</th>\n      <th>군구</th>\n      <th>의료기관수</th>\n    </tr>\n    <tr>\n      <th>시도군구</th>\n      <th></th>\n      <th></th>\n      <th></th>\n    </tr>\n  </thead>\n  <tbody>\n    <tr>\n      <th>강원도 강릉시</th>\n      <td>강원도</td>\n      <td>강릉시</td>\n      <td>4</td>\n    </tr>\n    <tr>\n      <th>강원도 동해시</th>\n      <td>강원도</td>\n      <td>동해시</td>\n      <td>1</td>\n    </tr>\n    <tr>\n      <th>강원도 삼척시</th>\n      <td>강원도</td>\n      <td>삼척시</td>\n      <td>1</td>\n    </tr>\n    <tr>\n      <th>강원도 속초시</th>\n      <td>강원도</td>\n      <td>속초시</td>\n      <td>1</td>\n    </tr>\n    <tr>\n      <th>강원도 양구군</th>\n      <td>강원도</td>\n      <td>양구군</td>\n      <td>1</td>\n    </tr>\n  </tbody>\n</table>\n</div>"
     },
     "execution_count": 54,
     "metadata": {},
     "output_type": "execute_result"
    }
   ],
   "source": [
    "addr_group = addr_group.set_index('시도군구')\n",
    "addr_group.head()"
   ],
   "metadata": {
    "collapsed": false,
    "ExecuteTime": {
     "end_time": "2024-01-29T00:54:33.190694500Z",
     "start_time": "2024-01-29T00:54:33.159796300Z"
    }
   },
   "id": "fff83e90fe16c3a9",
   "execution_count": 54
  },
  {
   "cell_type": "code",
   "outputs": [],
   "source": [],
   "metadata": {
    "collapsed": false,
    "ExecuteTime": {
     "end_time": "2024-01-29T00:54:33.422799300Z",
     "start_time": "2024-01-29T00:54:33.321035Z"
    }
   },
   "id": "d9894721dea71cff",
   "execution_count": 54
  },
  {
   "cell_type": "code",
   "outputs": [],
   "source": [],
   "metadata": {
    "collapsed": false,
    "ExecuteTime": {
     "end_time": "2024-01-29T00:54:33.540973500Z",
     "start_time": "2024-01-29T00:54:33.525003300Z"
    }
   },
   "id": "6fb7d4e24e9abc04",
   "execution_count": 54
  },
  {
   "cell_type": "code",
   "outputs": [],
   "source": [],
   "metadata": {
    "collapsed": false,
    "ExecuteTime": {
     "end_time": "2024-01-29T00:54:33.699475800Z",
     "start_time": "2024-01-29T00:54:33.649640700Z"
    }
   },
   "id": "4342c2dd1d7d0f16",
   "execution_count": 54
  },
  {
   "cell_type": "code",
   "outputs": [],
   "source": [],
   "metadata": {
    "collapsed": false
   },
   "id": "8f9c67a51fcd68a9"
  }
 ],
 "metadata": {
  "kernelspec": {
   "display_name": "Python 3",
   "language": "python",
   "name": "python3"
  },
  "language_info": {
   "codemirror_mode": {
    "name": "ipython",
    "version": 2
   },
   "file_extension": ".py",
   "mimetype": "text/x-python",
   "name": "python",
   "nbconvert_exporter": "python",
   "pygments_lexer": "ipython2",
   "version": "2.7.6"
  }
 },
 "nbformat": 4,
 "nbformat_minor": 5
}
