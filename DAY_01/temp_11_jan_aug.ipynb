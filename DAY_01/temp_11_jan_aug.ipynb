{
 "cells": [
  {
   "cell_type": "code",
   "execution_count": 2,
   "id": "initial_id",
   "metadata": {
    "collapsed": true,
    "ExecuteTime": {
     "end_time": "2024-01-24T05:21:07.706797400Z",
     "start_time": "2024-01-24T05:21:07.291906900Z"
    }
   },
   "outputs": [],
   "source": [
    "import csv\n",
    "import matplotlib.pyplot as plt"
   ]
  },
  {
   "cell_type": "code",
   "outputs": [],
   "source": [
    "f = open('daegu-utf8.csv', encoding='utf-8-sig')\n",
    "data = csv.reader(f)\n",
    "next(data)\n",
    "aug = []\n",
    "jan = []\n",
    "\n",
    "for row in data:\n",
    "    month = row[0].split('-')[1]\n",
    "    if row[-1] == '':\n",
    "        "
   ],
   "metadata": {
    "collapsed": false
   },
   "id": "4e66ec7450fdc3cf"
  }
 ],
 "metadata": {
  "kernelspec": {
   "display_name": "Python 3",
   "language": "python",
   "name": "python3"
  },
  "language_info": {
   "codemirror_mode": {
    "name": "ipython",
    "version": 2
   },
   "file_extension": ".py",
   "mimetype": "text/x-python",
   "name": "python",
   "nbconvert_exporter": "python",
   "pygments_lexer": "ipython2",
   "version": "2.7.6"
  }
 },
 "nbformat": 4,
 "nbformat_minor": 5
}
