{
 "cells": [
  {
   "cell_type": "markdown",
   "source": [],
   "metadata": {
    "collapsed": false
   },
   "id": "c641c3cef6124500"
  },
  {
   "cell_type": "code",
   "execution_count": 13,
   "id": "initial_id",
   "metadata": {
    "collapsed": true,
    "ExecuteTime": {
     "end_time": "2024-01-24T06:23:46.083288900Z",
     "start_time": "2024-01-24T06:23:46.073917500Z"
    }
   },
   "outputs": [],
   "source": [
    "import pandas as pd"
   ]
  },
  {
   "cell_type": "code",
   "outputs": [
    {
     "name": "stdout",
     "output_type": "stream",
     "text": [
      "Index(['날짜', '지점', '평균기온(℃)', '최저기온(℃)', '최고기온(℃)'], dtype='object')\n",
      "object\n"
     ]
    }
   ],
   "source": [
    "weather_df = pd.read_csv('daegu-utf8.csv', encoding='utf-8-sig')\n",
    "print(weather_df.columns)\n",
    "print(weather_df['날짜'].dtype)"
   ],
   "metadata": {
    "collapsed": false,
    "ExecuteTime": {
     "end_time": "2024-01-24T06:23:46.113695100Z",
     "start_time": "2024-01-24T06:23:46.084285500Z"
    }
   },
   "id": "591d7e44192ed558",
   "execution_count": 14
  },
  {
   "cell_type": "code",
   "outputs": [
    {
     "name": "stdout",
     "output_type": "stream",
     "text": [
      "Index(['날짜', '지점', '평균기온', '최저기온', '최고기온'], dtype='object')\n"
     ]
    }
   ],
   "source": [
    "weather_df.columns= ['날짜', '지점','평균기온','최저기온','최고기온']\n",
    "print(weather_df.columns)"
   ],
   "metadata": {
    "collapsed": false,
    "ExecuteTime": {
     "end_time": "2024-01-24T06:23:46.128914400Z",
     "start_time": "2024-01-24T06:23:46.115692200Z"
    }
   },
   "id": "bf70b671932e098e",
   "execution_count": 15
  },
  {
   "cell_type": "code",
   "outputs": [
    {
     "name": "stdout",
     "output_type": "stream",
     "text": [
      "datetime64[ns]\n"
     ]
    }
   ],
   "source": [
    "weather_df['날짜'] = pd.to_datetime(weather_df['날짜'], format='%Y-%m-%d')\n",
    "print(weather_df['날짜'].dtype)"
   ],
   "metadata": {
    "collapsed": false,
    "ExecuteTime": {
     "end_time": "2024-01-24T06:23:46.161370900Z",
     "start_time": "2024-01-24T06:23:46.130951700Z"
    }
   },
   "id": "2b0978f41485d26b",
   "execution_count": 16
  },
  {
   "cell_type": "code",
   "outputs": [
    {
     "name": "stdout",
     "output_type": "stream",
     "text": [
      "          날짜   지점  평균기온  최저기온  최고기온\n",
      "0 1907-01-31  143   NaN  -7.0   0.8\n",
      "1 1907-02-01  143   NaN   NaN   NaN\n",
      "2 1907-02-02  143   NaN   NaN   NaN\n",
      "3 1907-02-03  143   NaN   NaN   NaN\n",
      "4 1907-02-04  143   NaN   NaN   NaN\n",
      "(42704, 5)\n",
      "날짜        0\n",
      "지점        0\n",
      "평균기온    703\n",
      "최저기온    629\n",
      "최고기온    630\n",
      "dtype: int64\n"
     ]
    }
   ],
   "source": [
    "print(weather_df.head(5))\n",
    "print(weather_df.shape)\n",
    "num_rows = weather_df.shape[0]\n",
    "num_missing = num_rows - weather_df.count() # count(): 정상값의 개수\n",
    "print(num_missing)"
   ],
   "metadata": {
    "collapsed": false,
    "ExecuteTime": {
     "end_time": "2024-01-24T06:23:46.194480100Z",
     "start_time": "2024-01-24T06:23:46.162371Z"
    }
   },
   "id": "84b343a08a8f4987",
   "execution_count": 17
  },
  {
   "cell_type": "code",
   "outputs": [
    {
     "name": "stdout",
     "output_type": "stream",
     "text": [
      "날짜      41999\n",
      "지점      41999\n",
      "평균기온    41999\n",
      "최저기온    41999\n",
      "최고기온    41999\n",
      "dtype: int64\n",
      "            날짜   지점  평균기온  최저기온  최고기온\n",
      "701 1909-01-01  143  -4.1  -8.0   0.1\n",
      "702 1909-01-02  143  -0.8  -6.7   6.1\n",
      "703 1909-01-03  143   1.0  -2.4   3.6\n",
      "704 1909-01-04  143   4.2   0.0   9.2\n",
      "705 1909-01-05  143   3.4  -0.4   9.0\n"
     ]
    }
   ],
   "source": [
    "weather_df = weather_df.dropna(axis=0)\n",
    "print(weather_df.count())\n",
    "print(weather_df.head(5))"
   ],
   "metadata": {
    "collapsed": false,
    "ExecuteTime": {
     "end_time": "2024-01-24T06:23:46.196474200Z",
     "start_time": "2024-01-24T06:23:46.177404200Z"
    }
   },
   "id": "a4117011dce83ab",
   "execution_count": 18
  },
  {
   "cell_type": "code",
   "outputs": [],
   "source": [
    "weather_df.to_csv('daegu-utf8-df.csv', index=False, mode='w', encoding='utf-8-sig')"
   ],
   "metadata": {
    "collapsed": false,
    "ExecuteTime": {
     "end_time": "2024-01-24T06:23:46.328387200Z",
     "start_time": "2024-01-24T06:23:46.194480100Z"
    }
   },
   "id": "8ca146faff3ac3e8",
   "execution_count": 19
  },
  {
   "cell_type": "code",
   "outputs": [
    {
     "name": "stdout",
     "output_type": "stream",
     "text": [
      "              날짜   지점  평균기온  최저기온  최고기온\n",
      "42551 2023-08-01  143  29.7  24.9  34.8\n",
      "42552 2023-08-02  143  30.0  23.9  34.7\n",
      "42553 2023-08-03  143  31.5  27.0  37.7\n",
      "42554 2023-08-04  143  30.5  26.0  34.7\n",
      "42555 2023-08-05  143  31.5  25.7  37.2\n"
     ]
    }
   ],
   "source": [
    "year_df = weather_df[weather_df['날짜'].dt.year == 2023\n",
    "                      ]\n",
    "month_df = year_df[year_df['날짜'].dt.month == 8]\n",
    "print(month_df.head())"
   ],
   "metadata": {
    "collapsed": false,
    "ExecuteTime": {
     "end_time": "2024-01-24T06:30:10.665905600Z",
     "start_time": "2024-01-24T06:30:10.641155400Z"
    }
   },
   "id": "92b141dfaf0de561",
   "execution_count": 23
  },
  {
   "cell_type": "code",
   "outputs": [
    {
     "name": "stdout",
     "output_type": "stream",
     "text": [
      "2023년 8월 최저기온 평균:24.0, 최고기온 평균:31.9\n"
     ]
    }
   ],
   "source": [
    "max_temp_mean = round(month_df['최고기온'].mean(), 1)\n",
    "min_temp_mean = round(month_df['최저기온'].mean(), 1)\n",
    "\n",
    "print(f'2023년 8월 최저기온 평균:{min_temp_mean}, 최고기온 평균:{max_temp_mean}')"
   ],
   "metadata": {
    "collapsed": false,
    "ExecuteTime": {
     "end_time": "2024-01-24T06:31:46.433036800Z",
     "start_time": "2024-01-24T06:31:46.398273900Z"
    }
   },
   "id": "7b64862545b49122",
   "execution_count": 24
  },
  {
   "cell_type": "code",
   "outputs": [],
   "source": [],
   "metadata": {
    "collapsed": false
   },
   "id": "95ec83171a3fa4a4"
  }
 ],
 "metadata": {
  "kernelspec": {
   "display_name": "Python 3",
   "language": "python",
   "name": "python3"
  },
  "language_info": {
   "codemirror_mode": {
    "name": "ipython",
    "version": 2
   },
   "file_extension": ".py",
   "mimetype": "text/x-python",
   "name": "python",
   "nbconvert_exporter": "python",
   "pygments_lexer": "ipython2",
   "version": "2.7.6"
  }
 },
 "nbformat": 4,
 "nbformat_minor": 5
}
