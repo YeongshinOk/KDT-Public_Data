{
 "cells": [
  {
   "cell_type": "code",
   "execution_count": 2,
   "id": "initial_id",
   "metadata": {
    "collapsed": true,
    "ExecuteTime": {
     "end_time": "2024-01-24T04:52:21.885943700Z",
     "start_time": "2024-01-24T04:52:21.879953500Z"
    }
   },
   "outputs": [
    {
     "name": "stdout",
     "output_type": "stream",
     "text": [
      "['2022', '09', '18']\n"
     ]
    }
   ],
   "source": [
    "date_string1 ='2022 09 18'\n",
    "# 공백을 기준으로 분리\n",
    "print(date_string1.split())"
   ]
  },
  {
   "cell_type": "code",
   "outputs": [
    {
     "name": "stdout",
     "output_type": "stream",
     "text": [
      "['2022', '09', '18']\n",
      "연도 : 2022, 월 : 09, 일 : 18\n"
     ]
    }
   ],
   "source": [
    "date_string2 ='2022-09-18'\n",
    "split_date_string = date_string2.split('-')\n",
    "print(split_date_string)\n",
    "\n",
    "year= split_date_string[0]\n",
    "month = split_date_string[1]\n",
    "day = split_date_string[2]\n",
    "\n",
    "print(f'연도 : {year}, 월 : {month}, 일 : {day}')"
   ],
   "metadata": {
    "collapsed": false,
    "ExecuteTime": {
     "end_time": "2024-01-24T04:53:38.838567900Z",
     "start_time": "2024-01-24T04:53:38.829286700Z"
    }
   },
   "id": "99df64a06dd60",
   "execution_count": 3
  },
  {
   "cell_type": "code",
   "outputs": [],
   "source": [],
   "metadata": {
    "collapsed": false
   },
   "id": "8d4499855fc524c3"
  }
 ],
 "metadata": {
  "kernelspec": {
   "display_name": "Python 3",
   "language": "python",
   "name": "python3"
  },
  "language_info": {
   "codemirror_mode": {
    "name": "ipython",
    "version": 2
   },
   "file_extension": ".py",
   "mimetype": "text/x-python",
   "name": "python",
   "nbconvert_exporter": "python",
   "pygments_lexer": "ipython2",
   "version": "2.7.6"
  }
 },
 "nbformat": 4,
 "nbformat_minor": 5
}
